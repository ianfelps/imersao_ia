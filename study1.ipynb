{
 "cells": [
  {
   "cell_type": "markdown",
   "metadata": {},
   "source": [
    "### Aula 04 - Imersão IA"
   ]
  },
  {
   "cell_type": "code",
   "execution_count": 16,
   "metadata": {},
   "outputs": [],
   "source": [
    "# instalar bibliotecas\n",
    "# %pip install -q -U google-generativeai python-dotenv\n",
    "\n",
    "# importar bibliotecas\n",
    "import google.generativeai as genai\n",
    "from dotenv import load_dotenv\n",
    "import os"
   ]
  },
  {
   "cell_type": "code",
   "execution_count": 9,
   "metadata": {},
   "outputs": [],
   "source": [
    "# importar API do .env\n",
    "load_dotenv()\n",
    "GOOGLE_API_KEY = os.getenv(\"GOOGLE_API\")"
   ]
  },
  {
   "cell_type": "code",
   "execution_count": 15,
   "metadata": {},
   "outputs": [
    {
     "name": "stdout",
     "output_type": "stream",
     "text": [
      "models/gemini-1.0-pro\n",
      "models/gemini-1.0-pro-001\n",
      "models/gemini-1.0-pro-latest\n",
      "models/gemini-1.0-pro-vision-latest\n",
      "models/gemini-1.5-pro-latest\n",
      "models/gemini-pro\n",
      "models/gemini-pro-vision\n"
     ]
    }
   ],
   "source": [
    "# configurar API\n",
    "genai.configure(api_key=GOOGLE_API_KEY)\n",
    "\n",
    "# listar modelos\n",
    "for m in genai.list_models():\n",
    "    if \"generateContent\" in m.supported_generation_methods:\n",
    "        print(m.name)"
   ]
  },
  {
   "cell_type": "code",
   "execution_count": 19,
   "metadata": {},
   "outputs": [],
   "source": [
    "# definir parâmetros\n",
    "generation_config = {\n",
    "    \"candidate_count\": 1, # contagem de respostas\n",
    "    \"temperature\": 0.5, # temperatura do modelo\n",
    "}\n",
    "\n",
    "# definir configurações de segurança\n",
    "safety_settings = {\n",
    "    \"HATE\": \"BLOCK_NONE\",\n",
    "    \"HARASSMENT\": \"BLOCK_NONE\",\n",
    "    \"SEXUAL\" : \"BLOCK_NONE\",\n",
    "    \"DANGEROUS\" : \"BLOCK_NONE\"\n",
    "}"
   ]
  },
  {
   "cell_type": "code",
   "execution_count": 20,
   "metadata": {},
   "outputs": [],
   "source": [
    "# inicializar modelo\n",
    "\n",
    "# parâmetros do Modelo Generativo respectivamente: nome do modelo, configurações de geração (parâmetros) e configurações de segurança\n",
    "model = genai.GenerativeModel(model_name=\"gemini-1.0-pro\", generation_config=generation_config, safety_settings=safety_settings,)"
   ]
  },
  {
   "cell_type": "code",
   "execution_count": 38,
   "metadata": {},
   "outputs": [
    {
     "name": "stdout",
     "output_type": "stream",
     "text": [
      "1898\n"
     ]
    }
   ],
   "source": [
    "# testar modelo\n",
    "response = model.generate_content(\"Qual o ano de fundação do Clube de Regatas Vasco da Gama?\") # prompt\n",
    "print(response.text) # resposta"
   ]
  },
  {
   "cell_type": "code",
   "execution_count": 53,
   "metadata": {},
   "outputs": [
    {
     "name": "stdout",
     "output_type": "stream",
     "text": [
      "Pergunta:  Qual o ano de fundação do Clube de Regatas Vasco da Gama?\n",
      "Resposta:  1898 \n",
      "\n",
      "\n",
      "Pergunta:  Quais as cores principais dos uniformes?\n",
      "Resposta:  Preto e branco\n",
      "\n",
      "**Uniforme 1 (casa):**\n",
      "* Camisa preta com faixa branca horizontal\n",
      "* Calção branco\n",
      "* Meias pretas\n",
      "\n",
      "**Uniforme 2 (fora):**\n",
      "* Camisa branca com faixa preta horizontal\n",
      "* Calção preto\n",
      "* Meias brancas \n",
      "\n",
      "\n",
      "Pergunta:  Qual símbolo carregam no peito?\n",
      "Resposta:  Cruz de Malta\n",
      "\n",
      "A Cruz de Malta é um símbolo heráldico que representa a Ordem dos Cavaleiros Hospitalários, uma ordem militar e religiosa fundada em Jerusalém no século XI. O símbolo foi adotado pelo Vasco da Gama em 1924, após uma sugestão do então presidente do clube, José Augusto Prestes.\n",
      "\n",
      "A Cruz de Malta é um símbolo de coragem, fé e caridade, valores que o Vasco da Gama busca representar em sua história e tradição. \n",
      "\n",
      "\n"
     ]
    }
   ],
   "source": [
    "# criar o chat\n",
    "chat = model.start_chat(history=[])\n",
    "\n",
    "# criar prompt\n",
    "prompt = input(\"Esperando prompt: \")\n",
    "\n",
    "# parar o chat\n",
    "while prompt != \"fim\":\n",
    "    response = chat.send_message(prompt)\n",
    "    print(\"Pergunta: \", prompt)\n",
    "    print(\"Resposta: \", response.text, \"\\n\\n\")\n",
    "    prompt = input(\"Esperando prompt: \")"
   ]
  },
  {
   "cell_type": "code",
   "execution_count": 54,
   "metadata": {},
   "outputs": [
    {
     "data": {
      "text/plain": [
       "ChatSession(\n",
       "    model=genai.GenerativeModel(\n",
       "        model_name='models/gemini-1.0-pro',\n",
       "        generation_config={'candidate_count': 1, 'temperature': 0.5},\n",
       "        safety_settings={<HarmCategory.HARM_CATEGORY_HATE_SPEECH: 8>: <HarmBlockThreshold.BLOCK_NONE: 4>, <HarmCategory.HARM_CATEGORY_HARASSMENT: 7>: <HarmBlockThreshold.BLOCK_NONE: 4>, <HarmCategory.HARM_CATEGORY_SEXUALLY_EXPLICIT: 9>: <HarmBlockThreshold.BLOCK_NONE: 4>, <HarmCategory.HARM_CATEGORY_DANGEROUS_CONTENT: 10>: <HarmBlockThreshold.BLOCK_NONE: 4>},\n",
       "        tools=None,\n",
       "        system_instruction=None,\n",
       "    ),\n",
       "    history=[glm.Content({'parts': [{'text': 'Qual o ano d...asco da Gama?'}], 'role': 'user'}), glm.Content({'parts': [{'text': '1898'}], 'role': 'model'}), glm.Content({'parts': [{'text': 'Quais as cor...os uniformes?'}], 'role': 'user'}), glm.Content({'parts': [{'text': 'Preto e bran...Meias brancas'}], 'role': 'model'}), glm.Content({'parts': [{'text': 'Qual símbolo...gam no peito?'}], 'role': 'user'}), glm.Content({'parts': [{'text': 'Cruz de Malt...a e tradição.'}], 'role': 'model'})]\n",
       ")"
      ]
     },
     "execution_count": 54,
     "metadata": {},
     "output_type": "execute_result"
    }
   ],
   "source": [
    "# mostrar chat\n",
    "chat"
   ]
  },
  {
   "cell_type": "code",
   "execution_count": 55,
   "metadata": {},
   "outputs": [
    {
     "data": {
      "text/plain": [
       "[parts {\n",
       "   text: \"Qual o ano de fundação do Clube de Regatas Vasco da Gama?\"\n",
       " }\n",
       " role: \"user\",\n",
       " parts {\n",
       "   text: \"1898\"\n",
       " }\n",
       " role: \"model\",\n",
       " parts {\n",
       "   text: \"Quais as cores principais dos uniformes?\"\n",
       " }\n",
       " role: \"user\",\n",
       " parts {\n",
       "   text: \"Preto e branco\\n\\n**Uniforme 1 (casa):**\\n* Camisa preta com faixa branca horizontal\\n* Calção branco\\n* Meias pretas\\n\\n**Uniforme 2 (fora):**\\n* Camisa branca com faixa preta horizontal\\n* Calção preto\\n* Meias brancas\"\n",
       " }\n",
       " role: \"model\",\n",
       " parts {\n",
       "   text: \"Qual símbolo carregam no peito?\"\n",
       " }\n",
       " role: \"user\",\n",
       " parts {\n",
       "   text: \"Cruz de Malta\\n\\nA Cruz de Malta é um símbolo heráldico que representa a Ordem dos Cavaleiros Hospitalários, uma ordem militar e religiosa fundada em Jerusalém no século XI. O símbolo foi adotado pelo Vasco da Gama em 1924, após uma sugestão do então presidente do clube, José Augusto Prestes.\\n\\nA Cruz de Malta é um símbolo de coragem, fé e caridade, valores que o Vasco da Gama busca representar em sua história e tradição.\"\n",
       " }\n",
       " role: \"model\"]"
      ]
     },
     "execution_count": 55,
     "metadata": {},
     "output_type": "execute_result"
    }
   ],
   "source": [
    "# histórico do chat\n",
    "chat.history"
   ]
  }
 ],
 "metadata": {
  "kernelspec": {
   "display_name": "Python 3",
   "language": "python",
   "name": "python3"
  },
  "language_info": {
   "codemirror_mode": {
    "name": "ipython",
    "version": 3
   },
   "file_extension": ".py",
   "mimetype": "text/x-python",
   "name": "python",
   "nbconvert_exporter": "python",
   "pygments_lexer": "ipython3",
   "version": "3.12.1"
  }
 },
 "nbformat": 4,
 "nbformat_minor": 2
}
