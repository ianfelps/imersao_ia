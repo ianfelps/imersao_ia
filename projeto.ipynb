{
 "cells": [
  {
   "cell_type": "code",
   "execution_count": 2,
   "metadata": {},
   "outputs": [],
   "source": [
    "# instalar bibliotecas\n",
    "# %pip install -q -U google-generativeai python-dotenv\n",
    "\n",
    "# importar bibliotecas\n",
    "import google.generativeai as genai\n",
    "from dotenv import load_dotenv\n",
    "import os"
   ]
  },
  {
   "cell_type": "code",
   "execution_count": 3,
   "metadata": {},
   "outputs": [],
   "source": [
    "# importar API key do .env\n",
    "load_dotenv()\n",
    "GOOGLE_API_KEY = os.getenv(\"GOOGLE_API\")"
   ]
  },
  {
   "cell_type": "code",
   "execution_count": 33,
   "metadata": {},
   "outputs": [],
   "source": [
    "# configurar API\n",
    "genai.configure(api_key=GOOGLE_API_KEY)\n",
    "\n",
    "# definir parâmetros\n",
    "generation_config = {\n",
    "    \"candidate_count\": 1,\n",
    "    \"temperature\": 0.5,\n",
    "}\n",
    "\n",
    "safety_settings = {\n",
    "    \"HARASSMENT\": \"BLOCK_NONE\",\n",
    "    \"HATE\": \"BLOCK_NONE\",\n",
    "    \"SEXUAL\": \"BLOCK_NONE\",\n",
    "    \"DANGEROUS\": \"BLOCK_NONE\",\n",
    "}\n",
    "\n",
    "# criar modelo\n",
    "model = genai.GenerativeModel(model_name=\"gemini-1.0-pro\", generation_config=generation_config, safety_settings=safety_settings)"
   ]
  },
  {
   "cell_type": "code",
   "execution_count": 52,
   "metadata": {},
   "outputs": [
    {
     "data": {
      "text/plain": [
       "response:\n",
       "GenerateContentResponse(\n",
       "    done=True,\n",
       "    iterator=None,\n",
       "    result=glm.GenerateContentResponse({'candidates': [{'content': {'parts': [{'text': '**Informações fornecidas pelo usuário:**\\n\\n* Gostou de Call of Duty: Modern Warfare II por seus gráficos realistas e jogabilidade realista.\\n* Gostou de The Witcher 3: Wild Hunt por sua história envolvente e personagens cativantes.\\n* Gostou de Celeste por seu design de níveis criativo e jogabilidade desafiadora.\\n\\n**Recomendações de jogos:**\\n\\n**FPS realistas:**\\n\\n* Battlefield 2042: FPS em grande escala com gráficos impressionantes e jogabilidade baseada em esquadrões.\\n* Insurgency: Sandstorm: FPS tático realista com foco em combate corpo a corpo e cooperação de equipe.\\n* Escape from Tarkov: FPS hardcore e realista com elementos de sobrevivência e saque.\\n\\n**RPGs de mundo aberto com histórias envolventes:**\\n\\n* Elden Ring: RPG de ação e fantasia sombrio com um mundo aberto vasto e desafiador.\\n* Red Dead Redemption 2: Épico faroeste com uma história envolvente e personagens memoráveis.\\n* Cyberpunk 2077: RPG de ficção científica cyberpunk com uma cidade futurista detalhada e uma história ramificada.\\n\\n**Jogos de plataforma 2D com jogabilidade desafiadora:**\\n\\n* Hollow Knight: Jogo de ação e aventura Metroidvania com um mundo vasto e interconectado.\\n* Ori and the Will of the Wisps: Sequência do aclamado Ori and the Blind Forest, com gráficos deslumbrantes e jogabilidade fluida.\\n* Super Meat Boy: Jogo de plataforma notoriamente desafiador com níveis criativos e uma jogabilidade baseada em precisão.'}], 'role': 'model'}, 'finish_reason': 1, 'index': 0, 'safety_ratings': [{'category': 9, 'probability': 1, 'blocked': False}, {'category': 8, 'probability': 1, 'blocked': False}, {'category': 7, 'probability': 1, 'blocked': False}, {'category': 10, 'probability': 1, 'blocked': False}], 'token_count': 0, 'grounding_attributions': []}]}),\n",
       ")"
      ]
     },
     "execution_count": 52,
     "metadata": {},
     "output_type": "execute_result"
    }
   ],
   "source": [
    "# criando o chat\n",
    "chat = model.start_chat(history=[])\n",
    "\n",
    "# definindo o contexto\n",
    "chat.send_message(\"Você é um ChatBot de Recomendação de Jogos, o usuário irá fornecer informações e você irá sugerir os jogos.\")\n",
    "chat.send_message(\"Foque nos detalhes fornecidos e nas experiências anteriores do usuário.\")\n",
    "chat.send_message(\"Em sua resposta, liste as informações que o usuário forneceu, e logo abaixo os jogos com suas especificações.\")"
   ]
  },
  {
   "cell_type": "markdown",
   "metadata": {},
   "source": [
    "### Recomendador de Jogos 🎮 ###\n",
    "\n",
    "Responda as perguntas para descobrir novos jogos do seu estilo!"
   ]
  },
  {
   "cell_type": "code",
   "execution_count": 55,
   "metadata": {},
   "outputs": [],
   "source": [
    "# perguntas ao usuário\n",
    "\n",
    "# nome\n",
    "nome = input(\"Qual é o seu nome? \")\n",
    "\n",
    "# gêneros favoritos\n",
    "generos = input(f\"Olá {nome}, prazer! Qual o seu gênero favorito? \")\n",
    "\n",
    "# jogos favoritos\n",
    "jogo_fav = input(f\"Certo. Tem algum jogo favorito? \")\n",
    "\n",
    "# tempo de jogo\n",
    "tempo = input(\"E o tempo de jogo? Você prefere uma experiência mais curta ou mais longa? \")\n",
    "\n",
    "# detalhes\n",
    "detalhes = input(\"Algum detalhe específico que te agrada nos jogos?\")\n",
    "\n",
    "# plataforma\n",
    "plataforma = input(\"Para finalizar, qual plataforma você joga? \")\n",
    "\n",
    "# sugestão\n",
    "prompt = f\"Eu {nome}, gosto de gêneros como: {generos}; gosto do(s) jogo(s): {jogo_fav}; gosto de experiências de tempo: {tempo}; um detalhe que me agrada: {detalhes}; a plataforma que eu jogo: {plataforma}\""
   ]
  },
  {
   "cell_type": "code",
   "execution_count": 56,
   "metadata": {},
   "outputs": [
    {
     "name": "stdout",
     "output_type": "stream",
     "text": [
      "**Recomendações de jogos para Ian:**\n",
      "\n",
      "Com base nas preferências de Ian por gêneros de exploração e aventura, jogos com experiências de tempo médio a longo, e detalhes como liberdade, história cativante e bom fator replay, aqui estão algumas recomendações para PC:\n",
      "\n",
      "* **The Witcher 3: Wild Hunt:** Um RPG de mundo aberto com uma história envolvente, personagens cativantes e um vasto mundo para explorar. Oferece muita liberdade, opções de customização e um excelente fator replay.\n",
      "* **Red Dead Redemption 2:** Um épico faroeste com uma história cativante, personagens memoráveis e um mundo aberto detalhado. Oferece liberdade para explorar, customizar seu personagem e experimentar um fator replay alto.\n",
      "* **Fallout: New Vegas:** Um RPG pós-apocalíptico com uma história ramificada, facções diversas e um mundo aberto cheio de possibilidades. Oferece muita liberdade, opções de customização e um excelente fator replay.\n",
      "* **Mass Effect Legendary Edition:** Uma trilogia remasterizada de RPGs de ficção científica com uma história épica, personagens cativantes e um universo vasto para explorar. Oferece opções de customização, decisões que afetam a história e um alto fator replay.\n",
      "* **Dragon Age: Inquisition:** Um RPG de fantasia com uma história envolvente, companheiros cativantes e um mundo aberto para explorar. Oferece liberdade para escolher sua classe, customizar seu personagem e experimentar um fator replay alto.\n",
      "\n",
      "Esses jogos oferecem experiências de exploração e aventura envolventes, com histórias cativantes, opções de customização e um bom fator replay, atendendo às preferências de Ian.\n"
     ]
    }
   ],
   "source": [
    "# resposta\n",
    "resposta = chat.send_message(prompt)\n",
    "\n",
    "print(resposta.text)"
   ]
  }
 ],
 "metadata": {
  "kernelspec": {
   "display_name": "Python 3",
   "language": "python",
   "name": "python3"
  },
  "language_info": {
   "codemirror_mode": {
    "name": "ipython",
    "version": 3
   },
   "file_extension": ".py",
   "mimetype": "text/x-python",
   "name": "python",
   "nbconvert_exporter": "python",
   "pygments_lexer": "ipython3",
   "version": "3.12.1"
  }
 },
 "nbformat": 4,
 "nbformat_minor": 2
}
